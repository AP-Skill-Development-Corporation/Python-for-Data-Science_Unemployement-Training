{
 "cells": [
  {
   "cell_type": "markdown",
   "metadata": {},
   "source": [
    "#### Todays Agenda:\n",
    "- Flow Controls\n",
    "- Condition Statements\n",
    "    - if \n",
    "    - if - else\n",
    "    - if - else - elif\n",
    "- Iterations\n",
    "    - for\n",
    "    - while"
   ]
  },
  {
   "cell_type": "markdown",
   "metadata": {},
   "source": [
    "#### if  else Syntax:\n",
    "\n",
    "```\n",
    "if condition:\n",
    "    # satements\n",
    "    # satements\n",
    "    # satements\n",
    "else:\n",
    "    # satements\n",
    "    # satements\n",
    "```\n",
    "    \n"
   ]
  },
  {
   "cell_type": "code",
   "execution_count": 2,
   "metadata": {},
   "outputs": [
    {
     "name": "stdout",
     "output_type": "stream",
     "text": [
      "Enter a number11\n",
      "Odd\n"
     ]
    }
   ],
   "source": [
    "# The Given number is even or odd\n",
    "\n",
    "# 10 # is even or odd  ------>10 % 2 == 0\n",
    "\n",
    "a = int(input(\"Enter a number\"))\n",
    "\n",
    "if a%2==0:\n",
    "    print(\"Even\")\n",
    "else:\n",
    "    print(\"Odd\")"
   ]
  },
  {
   "cell_type": "code",
   "execution_count": 3,
   "metadata": {},
   "outputs": [
    {
     "name": "stdout",
     "output_type": "stream",
     "text": [
      "100\n"
     ]
    }
   ],
   "source": [
    "# Bigest of 2 numbers\n",
    "\n",
    "a = 100\n",
    "b = 22\n",
    "\n",
    "if a>b:\n",
    "    print(a)\n",
    "else:\n",
    "    print(b)\n"
   ]
  },
  {
   "cell_type": "code",
   "execution_count": 6,
   "metadata": {},
   "outputs": [
    {
     "name": "stdout",
     "output_type": "stream",
     "text": [
      "B is Big: 98\n"
     ]
    }
   ],
   "source": [
    "# Biggest 3 numbers\n",
    "\n",
    "# Time 3 mins\n",
    "\n",
    "a = 78\n",
    "b = 98\n",
    "c = 75\n",
    "# d = 90\n",
    "\n",
    "if a>b and a>c:\n",
    "    print(\"A is Big:\",a)\n",
    "elif b>c:\n",
    "    print(\"B is Big:\",b)\n",
    "else:\n",
    "    print(\"C is Big:\",c) "
   ]
  },
  {
   "cell_type": "code",
   "execution_count": 9,
   "metadata": {},
   "outputs": [
    {
     "name": "stdout",
     "output_type": "stream",
     "text": [
      "Enter x value:123456\n",
      "Enter y value:Raz\n",
      "Good morning my phone number is 123456.0 and my employee name Raz \n"
     ]
    }
   ],
   "source": [
    "# .format\n",
    "\n",
    "Phone = float(input(\"Enter x value:\"))\n",
    "Empname = input(\"Enter y value:\")\n",
    "\n",
    "print(\"Good morning my phone number is {} and my employee name {} \".format(Phone,Empname))\n",
    "\n"
   ]
  },
  {
   "cell_type": "code",
   "execution_count": 15,
   "metadata": {},
   "outputs": [
    {
     "name": "stdout",
     "output_type": "stream",
     "text": [
      "Enter username:Prasannaraz\n",
      "Enter Passwordapssdc\n",
      "Invalid Creditinals\n"
     ]
    }
   ],
   "source": [
    "# Login Data\n",
    "\n",
    "# username and password    \n",
    "\n",
    "# APSSDC2422  PYTHON\n",
    "# Prasanna Raz   apssdc\n",
    "\n",
    "username = input(\"Enter username:\")\n",
    "password = input(\"Enter Password\")\n",
    "\n",
    "if username == \"APSSDC2422\" and password == \"PYTHON\":\n",
    "    print(\"Welcome\",username)\n",
    "elif username == \"Prasanna Raz\" and password == \"apssdc\":\n",
    "    print(\"Welcome\",username)\n",
    "else:\n",
    "    print(\"Invalid Creditinals\")\n"
   ]
  },
  {
   "cell_type": "code",
   "execution_count": 1,
   "metadata": {},
   "outputs": [
    {
     "name": "stdout",
     "output_type": "stream",
     "text": [
      "Enter username:SDC\n",
      "Enter PasswordASDF\n",
      "Welcome SDC\n"
     ]
    }
   ],
   "source": [
    "username = input(\"Enter username:\")\n",
    "password = input(\"Enter Password\")\n",
    "\n",
    "if (username == \"APSSDC2422\" and password == \"PYTHON\") | (username == \"SDC\" and password == \"ASDF\"):\n",
    "    print(\"Welcome\",username)\n",
    "\n",
    "else:\n",
    "    print(\"Invalid Creditinals\")"
   ]
  },
  {
   "cell_type": "markdown",
   "metadata": {},
   "source": [
    "### Iterations\n",
    "- repeats condition until it was True is iteration\n",
    "- for loop \n",
    "- while loop"
   ]
  },
  {
   "cell_type": "markdown",
   "metadata": {},
   "source": [
    "- for loop syntax:\n",
    "```\n",
    "for variablename in range(start,end-1,step):\n",
    "    print(varaiablename)\n",
    "    \n",
    "```"
   ]
  },
  {
   "cell_type": "code",
   "execution_count": 30,
   "metadata": {},
   "outputs": [
    {
     "name": "stdout",
     "output_type": "stream",
     "text": [
      "1 2 3 4 5 6 7 8 9 10 11 12 13 14 15 16 17 18 19 20 21 22 23 24 25 26 27 28 29 30 31 32 33 34 35 36 37 38 39 40 41 42 43 44 45 46 47 48 49 50 51 52 53 54 55 56 57 58 59 60 61 62 63 64 65 66 67 68 69 70 71 72 73 74 75 76 77 78 79 80 81 82 83 84 85 86 87 88 89 90 91 92 93 94 95 96 97 98 99 "
     ]
    }
   ],
   "source": [
    "# range values\n",
    "for i in range(1,100): # range(start,end-1)\n",
    "    print(i,end = \" \")"
   ]
  },
  {
   "cell_type": "code",
   "execution_count": 18,
   "metadata": {},
   "outputs": [
    {
     "name": "stdout",
     "output_type": "stream",
     "text": [
      "0 3 6 9 12 15 18 21 24 27 30 33 36 39 42 45 48 51 54 57 60 63 66 69 72 75 78 81 84 87 90 93 96 99 "
     ]
    }
   ],
   "source": [
    "# find even number 1 to 100\n",
    "\n",
    "for x in range(0,101,3): #  range(start,end-1,differance)\n",
    "    print(x,end = \" \")"
   ]
  },
  {
   "cell_type": "code",
   "execution_count": 29,
   "metadata": {},
   "outputs": [
    {
     "name": "stdout",
     "output_type": "stream",
     "text": [
      "2 4 6 8 10 12 14 16 18 20 22 24 26 28 30 32 34 36 38 40 42 44 46 48 50 52 54 56 58 60 62 64 66 68 70 72 74 76 78 80 82 84 86 88 90 92 94 96 98 100 "
     ]
    }
   ],
   "source": [
    "# Even Numbers \n",
    "for i in range(1,101):\n",
    "    if i % 2 == 0:\n",
    "        print(i,end = \" \")"
   ]
  },
  {
   "cell_type": "code",
   "execution_count": 28,
   "metadata": {},
   "outputs": [
    {
     "name": "stdout",
     "output_type": "stream",
     "text": [
      "0 3 6 9 12 15 18 21 24 27 30 33 36 39 42 45 48 51 54 57 60 63 66 69 72 75 78 81 84 87 90 93 96 99 "
     ]
    }
   ],
   "source": [
    "# odd numbers (Differences)\n",
    "for x in range(0,100,3): #  range(start,end-1,differance)\n",
    "    print(x,end = \" \")"
   ]
  },
  {
   "cell_type": "code",
   "execution_count": 32,
   "metadata": {},
   "outputs": [
    {
     "name": "stdout",
     "output_type": "stream",
     "text": [
      "ODD 1\n",
      "Even 2\n",
      "ODD 3\n",
      "Even 4\n",
      "ODD 5\n",
      "Even 6\n",
      "ODD 7\n",
      "Even 8\n",
      "ODD 9\n"
     ]
    }
   ],
   "source": [
    "for z in range(1,10):\n",
    "    if z % 2 == 0:\n",
    "        print(\"Even\",z)\n",
    "    else :\n",
    "        print(\"ODD\",z)"
   ]
  },
  {
   "cell_type": "code",
   "execution_count": 33,
   "metadata": {},
   "outputs": [],
   "source": []
  },
  {
   "cell_type": "code",
   "execution_count": 36,
   "metadata": {
    "collapsed": true
   },
   "outputs": [
    {
     "name": "stdout",
     "output_type": "stream",
     "text": [
      "Enter a number20\n",
      "Enter table length10\n",
      "20 * 1 = 20\n",
      "20 * 2 = 40\n",
      "20 * 3 = 60\n",
      "20 * 4 = 80\n",
      "20 * 5 = 100\n",
      "20 * 6 = 120\n",
      "20 * 7 = 140\n",
      "20 * 8 = 160\n",
      "20 * 9 = 180\n",
      "20 * 10 = 200\n"
     ]
    }
   ],
   "source": [
    "# table Printing\n",
    "\n",
    "# 10 * 1 = 10\n",
    "# 10 * 2 = 20\n",
    "\n",
    "t = int(input(\"Enter a number\"))\n",
    "l = int(input(\"Enter table length\"))\n",
    "\n",
    "for i in range(1,l+1):\n",
    "    print('{} * {} = {}'.format(t,i,t*i))\n",
    "    "
   ]
  },
  {
   "cell_type": "markdown",
   "metadata": {},
   "source": [
    "### While loop syntax:\n",
    "```\n",
    "while expression:\n",
    "    statements1\n",
    "    statements2\n",
    "```"
   ]
  },
  {
   "cell_type": "code",
   "execution_count": 38,
   "metadata": {},
   "outputs": [
    {
     "name": "stdout",
     "output_type": "stream",
     "text": [
      "1 2 3 4 5 6 7 8 9 10 "
     ]
    }
   ],
   "source": [
    "# to print up to 100 numbers using whileloop\n",
    "count = 0\n",
    "while(count<10):\n",
    "    count = count+1\n",
    "    print(count ,end = \" \")\n"
   ]
  },
  {
   "cell_type": "code",
   "execution_count": null,
   "metadata": {},
   "outputs": [],
   "source": [
    "\n",
    "# Assignment Tasks: (24-12-2020)\n",
    "- Prime number using for loop\n",
    "- fibnocci Series suning \n",
    "\n",
    "- to print even and odd numbers using while loop\n",
    "- to print the perfect numbers"
   ]
  }
 ],
 "metadata": {
  "kernelspec": {
   "display_name": "Python 3",
   "language": "python",
   "name": "python3"
  },
  "language_info": {
   "codemirror_mode": {
    "name": "ipython",
    "version": 3
   },
   "file_extension": ".py",
   "mimetype": "text/x-python",
   "name": "python",
   "nbconvert_exporter": "python",
   "pygments_lexer": "ipython3",
   "version": "3.7.6"
  }
 },
 "nbformat": 4,
 "nbformat_minor": 4
}
