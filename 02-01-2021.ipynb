{
 "cells": [
  {
   "cell_type": "markdown",
   "metadata": {},
   "source": [
    "#### Dictionaries\n",
    "\n",
    "- Dictionary is one of the data structures in python. It is unordered collection of data.\n",
    "- Dictionary consists of items with key and value pair.\n",
    "- Every item in it is sepearted by coma.\n",
    "- Data is enclosed in flower brackets or curly brackets.\n",
    "- Keys must be unique in dictionaries.\n",
    "- We can access items using keys."
   ]
  },
  {
   "cell_type": "code",
   "execution_count": 1,
   "metadata": {},
   "outputs": [],
   "source": [
    "d = {} # empty dictionary"
   ]
  },
  {
   "cell_type": "code",
   "execution_count": 2,
   "metadata": {},
   "outputs": [
    {
     "data": {
      "text/plain": [
       "dict"
      ]
     },
     "execution_count": 2,
     "metadata": {},
     "output_type": "execute_result"
    }
   ],
   "source": [
    "type(d)"
   ]
  },
  {
   "cell_type": "code",
   "execution_count": 4,
   "metadata": {},
   "outputs": [
    {
     "data": {
      "text/plain": [
       "{'a': 1, 'b': 2, 'c': 4, 'd': 5}"
      ]
     },
     "execution_count": 4,
     "metadata": {},
     "output_type": "execute_result"
    }
   ],
   "source": [
    "#dict_name = {key1:value1,key2:value2....}\n",
    "\n",
    "d = {'a':1,'b':2,'c':4,'d':5}\n",
    "\n",
    "d"
   ]
  },
  {
   "cell_type": "code",
   "execution_count": 5,
   "metadata": {},
   "outputs": [
    {
     "data": {
      "text/plain": [
       "1"
      ]
     },
     "execution_count": 5,
     "metadata": {},
     "output_type": "execute_result"
    }
   ],
   "source": [
    "d['a']"
   ]
  },
  {
   "cell_type": "code",
   "execution_count": 6,
   "metadata": {},
   "outputs": [
    {
     "data": {
      "text/plain": [
       "2"
      ]
     },
     "execution_count": 6,
     "metadata": {},
     "output_type": "execute_result"
    }
   ],
   "source": [
    "d['b']"
   ]
  },
  {
   "cell_type": "code",
   "execution_count": 9,
   "metadata": {},
   "outputs": [],
   "source": [
    "d['e'] = 6"
   ]
  },
  {
   "cell_type": "code",
   "execution_count": 10,
   "metadata": {},
   "outputs": [
    {
     "data": {
      "text/plain": [
       "{'a': 1, 'b': 2, 'c': 4, 'd': 5, 'e': 6}"
      ]
     },
     "execution_count": 10,
     "metadata": {},
     "output_type": "execute_result"
    }
   ],
   "source": [
    "d"
   ]
  },
  {
   "cell_type": "code",
   "execution_count": 11,
   "metadata": {},
   "outputs": [],
   "source": [
    "# dcitname.update({key:value})\n",
    "\n",
    "d.update({'a':100})"
   ]
  },
  {
   "cell_type": "code",
   "execution_count": 12,
   "metadata": {},
   "outputs": [
    {
     "data": {
      "text/plain": [
       "{'a': 100, 'b': 2, 'c': 4, 'd': 5, 'e': 6}"
      ]
     },
     "execution_count": 12,
     "metadata": {},
     "output_type": "execute_result"
    }
   ],
   "source": [
    "d"
   ]
  },
  {
   "cell_type": "code",
   "execution_count": 13,
   "metadata": {},
   "outputs": [],
   "source": [
    "d.update({'f':7})"
   ]
  },
  {
   "cell_type": "code",
   "execution_count": 14,
   "metadata": {},
   "outputs": [
    {
     "data": {
      "text/plain": [
       "{'a': 100, 'b': 2, 'c': 4, 'd': 5, 'e': 6, 'f': 7}"
      ]
     },
     "execution_count": 14,
     "metadata": {},
     "output_type": "execute_result"
    }
   ],
   "source": [
    "d"
   ]
  },
  {
   "cell_type": "code",
   "execution_count": 15,
   "metadata": {},
   "outputs": [
    {
     "data": {
      "text/plain": [
       "6"
      ]
     },
     "execution_count": 15,
     "metadata": {},
     "output_type": "execute_result"
    }
   ],
   "source": [
    "len(d)"
   ]
  },
  {
   "cell_type": "code",
   "execution_count": 16,
   "metadata": {},
   "outputs": [
    {
     "data": {
      "text/plain": [
       "{'a': 100, 'b': 2, 'c': 4, 'd': 5, 'e': 6, 'f': 7}"
      ]
     },
     "execution_count": 16,
     "metadata": {},
     "output_type": "execute_result"
    }
   ],
   "source": [
    "d"
   ]
  },
  {
   "cell_type": "code",
   "execution_count": 17,
   "metadata": {},
   "outputs": [
    {
     "data": {
      "text/plain": [
       "5"
      ]
     },
     "execution_count": 17,
     "metadata": {},
     "output_type": "execute_result"
    }
   ],
   "source": [
    "#d.pop(key) removes item from dictionary for the given key\n",
    "\n",
    "d.pop('d')"
   ]
  },
  {
   "cell_type": "code",
   "execution_count": 18,
   "metadata": {},
   "outputs": [
    {
     "data": {
      "text/plain": [
       "{'a': 100, 'b': 2, 'c': 4, 'e': 6, 'f': 7}"
      ]
     },
     "execution_count": 18,
     "metadata": {},
     "output_type": "execute_result"
    }
   ],
   "source": [
    "d"
   ]
  },
  {
   "cell_type": "code",
   "execution_count": 20,
   "metadata": {},
   "outputs": [
    {
     "data": {
      "text/plain": [
       "('f', 7)"
      ]
     },
     "execution_count": 20,
     "metadata": {},
     "output_type": "execute_result"
    }
   ],
   "source": [
    "#d.popitem() removes a item randomly()\n",
    "\n",
    "d.popitem()"
   ]
  },
  {
   "cell_type": "code",
   "execution_count": 21,
   "metadata": {},
   "outputs": [
    {
     "data": {
      "text/plain": [
       "{'a': 100, 'b': 2, 'c': 4, 'e': 6}"
      ]
     },
     "execution_count": 21,
     "metadata": {},
     "output_type": "execute_result"
    }
   ],
   "source": [
    "d"
   ]
  },
  {
   "cell_type": "code",
   "execution_count": 22,
   "metadata": {},
   "outputs": [
    {
     "data": {
      "text/plain": [
       "{'name': ['praveen', 'ravi', 'sai'],\n",
       " 'age': [22, 23, 24],\n",
       " 'cgpa': [6.7, 9.4, 10.0]}"
      ]
     },
     "execution_count": 22,
     "metadata": {},
     "output_type": "execute_result"
    }
   ],
   "source": [
    "# Adding multiple values for key in dictionaries\n",
    "\n",
    "student_data = {\"name\":[\"praveen\",\"ravi\",\"sai\"],\n",
    "               \"age\":[22,23,24],\n",
    "               \"cgpa\":[6.7,9.4,10.00]}\n",
    "\n",
    "student_data"
   ]
  },
  {
   "cell_type": "code",
   "execution_count": 24,
   "metadata": {},
   "outputs": [
    {
     "data": {
      "text/plain": [
       "'sai'"
      ]
     },
     "execution_count": 24,
     "metadata": {},
     "output_type": "execute_result"
    }
   ],
   "source": [
    "student_data[\"name\"][2]"
   ]
  },
  {
   "cell_type": "code",
   "execution_count": 25,
   "metadata": {},
   "outputs": [
    {
     "data": {
      "text/plain": [
       "dict_items([('name', ['praveen', 'ravi', 'sai']), ('age', [22, 23, 24]), ('cgpa', [6.7, 9.4, 10.0])])"
      ]
     },
     "execution_count": 25,
     "metadata": {},
     "output_type": "execute_result"
    }
   ],
   "source": [
    "student_data.items()"
   ]
  },
  {
   "cell_type": "code",
   "execution_count": 27,
   "metadata": {},
   "outputs": [
    {
     "data": {
      "text/plain": [
       "{'name': ['praveen', 'ravi', 'sai'],\n",
       " 'age': [22, 23, 24],\n",
       " 'cgpa': [6.7, 9.4, 10.0]}"
      ]
     },
     "execution_count": 27,
     "metadata": {},
     "output_type": "execute_result"
    }
   ],
   "source": [
    "student_data"
   ]
  },
  {
   "cell_type": "code",
   "execution_count": 28,
   "metadata": {},
   "outputs": [
    {
     "name": "stdout",
     "output_type": "stream",
     "text": [
      "sai 10.0\n"
     ]
    }
   ],
   "source": [
    "#program to get the name student having cgpa=10.00\n",
    "for item in student_data.items():\n",
    "    if(item[1][2]==10):\n",
    "        print(student_data[\"name\"][2],item[1][2])"
   ]
  },
  {
   "cell_type": "markdown",
   "metadata": {},
   "source": [
    "- Find the frequencies of every element in the list\n",
    "- [1,2,1,3,1,4,5,2,5,6,7]\n",
    "- {1:3,2;2,3:1,4:1,5:1,6:7:1}"
   ]
  },
  {
   "cell_type": "code",
   "execution_count": 30,
   "metadata": {},
   "outputs": [
    {
     "name": "stdout",
     "output_type": "stream",
     "text": [
      "Enter no of values: 5\n",
      "Enter number: 1\n",
      "Enter number: 2\n",
      "Enter number: 1\n",
      "Enter number: 4\n",
      "Enter number: 3\n",
      "[1, 2, 1, 4, 3]\n"
     ]
    }
   ],
   "source": [
    "numbers = []\n",
    "for i in range(int(input(\"Enter no of values: \"))):\n",
    "    numbers.append(int(input(\"Enter number: \")))\n",
    "print(numbers)"
   ]
  },
  {
   "cell_type": "code",
   "execution_count": 31,
   "metadata": {},
   "outputs": [
    {
     "name": "stdout",
     "output_type": "stream",
     "text": [
      "{1: 2, 2: 1, 4: 1, 3: 1}\n"
     ]
    }
   ],
   "source": [
    "freq = {} # empty dictionary\n",
    "\n",
    "for ele in numbers:\n",
    "    #freq[ele] = numbers.count(ele)\n",
    "    freq.update({ele:numbers.count(ele)})\n",
    "print(freq)"
   ]
  },
  {
   "cell_type": "code",
   "execution_count": 32,
   "metadata": {},
   "outputs": [
    {
     "name": "stdout",
     "output_type": "stream",
     "text": [
      "Enter no chars: 4\n",
      "Enter char: a\n",
      "Enter char: f\n",
      "Enter char: v\n",
      "Enter char: z\n"
     ]
    },
    {
     "data": {
      "text/plain": [
       "['a', 'f', 'v', 'z']"
      ]
     },
     "execution_count": 32,
     "metadata": {},
     "output_type": "execute_result"
    }
   ],
   "source": [
    "#Find the ascii values for the given list of chars\n",
    "# ['a','b','c','d']\n",
    "#{'a':65,'b':66,'c':67,'d':68}\n",
    "\n",
    "chars = [] #empty list\n",
    "for i in range(int(input('Enter no chars: '))):\n",
    "    chars.append(input('Enter char: '))\n",
    "chars"
   ]
  },
  {
   "cell_type": "code",
   "execution_count": 33,
   "metadata": {},
   "outputs": [
    {
     "data": {
      "text/plain": [
       "{'a': 97, 'f': 102, 'v': 118, 'z': 122}"
      ]
     },
     "execution_count": 33,
     "metadata": {},
     "output_type": "execute_result"
    }
   ],
   "source": [
    "ascc = {} #empty dictionary\n",
    "for ch in chars:\n",
    "    ascc[ch] = ord(ch)\n",
    "ascc"
   ]
  },
  {
   "cell_type": "code",
   "execution_count": 34,
   "metadata": {},
   "outputs": [
    {
     "name": "stdout",
     "output_type": "stream",
     "text": [
      "[100, 200, 700, 300, 500]\n"
     ]
    }
   ],
   "source": [
    "# Find the largest frequency element from th given list\n",
    "#numbers = [100,200,700,100,300,300,500,700,700]\n",
    "#700\n",
    "numbers = [100,200,700,100,300,300,500,700,700]\n",
    "#1.Find unique elements from the list\n",
    "unique = []#empty list\n",
    "for ele in numbers:\n",
    "    if ele not in unique:\n",
    "        unique.append(ele)\n",
    "print(unique)"
   ]
  },
  {
   "cell_type": "code",
   "execution_count": 35,
   "metadata": {},
   "outputs": [
    {
     "data": {
      "text/plain": [
       "{100: 2, 200: 1, 700: 3, 300: 2, 500: 1}"
      ]
     },
     "execution_count": 35,
     "metadata": {},
     "output_type": "execute_result"
    }
   ],
   "source": [
    "freq = {}\n",
    "for i in unique:\n",
    "    freq[i]=numbers.count(i)\n",
    "freq"
   ]
  },
  {
   "cell_type": "code",
   "execution_count": 38,
   "metadata": {},
   "outputs": [
    {
     "name": "stdout",
     "output_type": "stream",
     "text": [
      "700 3\n"
     ]
    }
   ],
   "source": [
    "max_freq = [0,0]\n",
    "for item in freq.items():\n",
    "    if(item[1]>max_freq[1]):\n",
    "        max_freq[1]=item[1]\n",
    "        max_freq[0]=item[0]\n",
    "print(max_freq[0],max_freq[1])"
   ]
  },
  {
   "cell_type": "code",
   "execution_count": 39,
   "metadata": {},
   "outputs": [],
   "source": [
    "#Find the palindrome strings from the list of strings\n",
    "#[\"mentor\",\"madam\",\"wow\",\"wonder\",\"malayalam\"]\n",
    "#[\"madam\",\"wow\",\"malayalam\"]"
   ]
  },
  {
   "cell_type": "code",
   "execution_count": null,
   "metadata": {},
   "outputs": [],
   "source": [
    "#Find the strings which are in upper case\n",
    "#[\"A\",\"a\",\"B\",\"b\",\"C\",\"c\"]\n",
    "#"
   ]
  }
 ],
 "metadata": {
  "kernelspec": {
   "display_name": "Python 3",
   "language": "python",
   "name": "python3"
  },
  "language_info": {
   "codemirror_mode": {
    "name": "ipython",
    "version": 3
   },
   "file_extension": ".py",
   "mimetype": "text/x-python",
   "name": "python",
   "nbconvert_exporter": "python",
   "pygments_lexer": "ipython3",
   "version": "3.8.5"
  }
 },
 "nbformat": 4,
 "nbformat_minor": 4
}
