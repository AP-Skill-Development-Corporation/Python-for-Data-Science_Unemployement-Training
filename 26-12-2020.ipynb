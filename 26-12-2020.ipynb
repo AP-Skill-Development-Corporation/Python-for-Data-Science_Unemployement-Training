{
 "cells": [
  {
   "cell_type": "markdown",
   "metadata": {},
   "source": [
    "- Prime Number\n",
    "    - Number which is divisible by 1 and itself.\n",
    "    - It has only factors"
   ]
  },
  {
   "cell_type": "code",
   "execution_count": 4,
   "metadata": {},
   "outputs": [
    {
     "name": "stdout",
     "output_type": "stream",
     "text": [
      "Enter a number: 3\n",
      "3 is prime.\n"
     ]
    }
   ],
   "source": [
    "N = int(input(\"Enter a number: \"))\n",
    "f=0\n",
    "for i in range(1,N+1):\n",
    "    if(N%i==0):\n",
    "        f += 1\n",
    "\n",
    "if(f==2):\n",
    "    print(N,\"is prime.\")\n",
    "else:\n",
    "    print(N,\"is not prime.\")"
   ]
  },
  {
   "cell_type": "markdown",
   "metadata": {},
   "source": [
    "- Python program to print prime numbers in given range"
   ]
  },
  {
   "cell_type": "code",
   "execution_count": 9,
   "metadata": {},
   "outputs": [
    {
     "name": "stdout",
     "output_type": "stream",
     "text": [
      "Enter start value for range: 1\n",
      "Enter end value for range: 100\n",
      "Display prime numbers between 1 and 100\n",
      "2 3 5 7 11 13 17 19 23 29 31 37 41 43 47 53 59 61 67 71 73 79 83 89 97 "
     ]
    }
   ],
   "source": [
    "#range(start,end)\n",
    "start = int(input(\"Enter start value for range: \"))\n",
    "end = int(input(\"Enter end value for range: \"))\n",
    "print(\"Display prime numbers between \"+str(start)+\" and \"+str(end))\n",
    "\n",
    "for value in range(start,end+1):\n",
    "    f=0\n",
    "    for i in range(1,value+1):\n",
    "        if(value%i==0):\n",
    "            f += 1\n",
    "    if(f==2):\n",
    "        print(value,end=\" \")"
   ]
  },
  {
   "cell_type": "markdown",
   "metadata": {},
   "source": [
    "- Fibanocci Series\n",
    "    - 0,1,1,2,3,5..."
   ]
  },
  {
   "cell_type": "code",
   "execution_count": 21,
   "metadata": {},
   "outputs": [
    {
     "name": "stdout",
     "output_type": "stream",
     "text": [
      "No of values to be displayed in fibanocci: 4\n",
      "0 \n",
      " 1\n",
      "1\n",
      "2\n"
     ]
    }
   ],
   "source": [
    "N = int(input(\"No of values to be displayed in fibanocci: \"))\n",
    "n1,n2=0,1\n",
    "print(n1,\"\\n\",n2)\n",
    "for i in range(N-2):\n",
    "    nth = n1+n2\n",
    "    print(nth)\n",
    "    n1=n2\n",
    "    n2=nth"
   ]
  },
  {
   "cell_type": "markdown",
   "metadata": {},
   "source": [
    "- Perfect Numbers\n",
    "    - When we sum the factors of any particular then that sum must be equal to given number"
   ]
  },
  {
   "cell_type": "code",
   "execution_count": 22,
   "metadata": {},
   "outputs": [
    {
     "name": "stdout",
     "output_type": "stream",
     "text": [
      "Enter a number t check whether it is perfect/not: 6\n",
      "True\n"
     ]
    }
   ],
   "source": [
    "#Python program to check given number is perfect or not\n",
    "#6-1+2+3\n",
    "N = int(input(\"Enter a number t check whether it is perfect/not: \"))\n",
    "s=0\n",
    "for i in range(1,N):\n",
    "    if(N%i==0):\n",
    "        s += i\n",
    "if(s==N):\n",
    "    print(True)\n",
    "else:\n",
    "    print(False)"
   ]
  },
  {
   "cell_type": "markdown",
   "metadata": {},
   "source": [
    "- Python program to get all perfect numbers in the given range"
   ]
  },
  {
   "cell_type": "code",
   "execution_count": 26,
   "metadata": {},
   "outputs": [
    {
     "name": "stdout",
     "output_type": "stream",
     "text": [
      "Start: 1\n",
      "End: 1000\n",
      "6 28 496 "
     ]
    }
   ],
   "source": [
    "for value in range(int(input(\"Start: \")),int(input(\"End: \"))):\n",
    "    s = 0\n",
    "    for i in range(1,value):\n",
    "        if(value%i==0):\n",
    "            s += i\n",
    "    if(s==value):\n",
    "        print(value,end=\" \")\n",
    "        "
   ]
  },
  {
   "cell_type": "markdown",
   "metadata": {},
   "source": [
    "- Python program to print N mathematical tables"
   ]
  },
  {
   "cell_type": "code",
   "execution_count": 28,
   "metadata": {
    "collapsed": true
   },
   "outputs": [
    {
     "name": "stdout",
     "output_type": "stream",
     "text": [
      "Enter no of tables to print: 3\n",
      "1 * 1 = 1\n",
      "1 * 2 = 2\n",
      "1 * 3 = 3\n",
      "1 * 4 = 4\n",
      "1 * 5 = 5\n",
      "1 * 6 = 6\n",
      "1 * 7 = 7\n",
      "1 * 8 = 8\n",
      "1 * 9 = 9\n",
      "1 * 10 = 10\n",
      "\n",
      "\n",
      "2 * 1 = 2\n",
      "2 * 2 = 4\n",
      "2 * 3 = 6\n",
      "2 * 4 = 8\n",
      "2 * 5 = 10\n",
      "2 * 6 = 12\n",
      "2 * 7 = 14\n",
      "2 * 8 = 16\n",
      "2 * 9 = 18\n",
      "2 * 10 = 20\n",
      "\n",
      "\n",
      "3 * 1 = 3\n",
      "3 * 2 = 6\n",
      "3 * 3 = 9\n",
      "3 * 4 = 12\n",
      "3 * 5 = 15\n",
      "3 * 6 = 18\n",
      "3 * 7 = 21\n",
      "3 * 8 = 24\n",
      "3 * 9 = 27\n",
      "3 * 10 = 30\n",
      "\n",
      "\n"
     ]
    }
   ],
   "source": [
    "N = int(input(\"Enter no of tables to print: \"))\n",
    "\n",
    "for i in range(1,N+1):\n",
    "    for j in range(1,11):\n",
    "        print(i,\"*\",j,\"=\",i*j)\n",
    "    print(\"\\n\")"
   ]
  },
  {
   "cell_type": "markdown",
   "metadata": {},
   "source": [
    "- Print the following star pattern\n",
    "\n",
    "*\n",
    "* *\n",
    "* * *\n",
    "* * * *\n",
    "* * * * *"
   ]
  },
  {
   "cell_type": "code",
   "execution_count": 31,
   "metadata": {},
   "outputs": [
    {
     "name": "stdout",
     "output_type": "stream",
     "text": [
      "Enter no of rows to get pattern: 5\n",
      "* \n",
      "* * \n",
      "* * * \n",
      "* * * * \n",
      "* * * * * \n"
     ]
    }
   ],
   "source": [
    "N = int(input(\"Enter no of rows to get pattern: \"))\n",
    "for i in range(1,N+1):\n",
    "    for j in range(1,i+1):\n",
    "        print(\"*\",end=\" \")\n",
    "    print()#by default end will be \\n"
   ]
  },
  {
   "cell_type": "code",
   "execution_count": 35,
   "metadata": {},
   "outputs": [
    {
     "name": "stdout",
     "output_type": "stream",
     "text": [
      "Enter no of rows to get pattern: 5\n",
      "* * * * * \n",
      "* * * * \n",
      "* * * \n",
      "* * \n",
      "* \n"
     ]
    }
   ],
   "source": [
    "N = int(input(\"Enter no of rows to get pattern: \"))\n",
    "for i in range(N,0,-1):\n",
    "    for j in range(i,0,-1):\n",
    "        print(\"*\",end=\" \")\n",
    "    print()#by default end will be \\n"
   ]
  },
  {
   "cell_type": "code",
   "execution_count": null,
   "metadata": {},
   "outputs": [],
   "source": []
  }
 ],
 "metadata": {
  "kernelspec": {
   "display_name": "Python 3",
   "language": "python",
   "name": "python3"
  },
  "language_info": {
   "codemirror_mode": {
    "name": "ipython",
    "version": 3
   },
   "file_extension": ".py",
   "mimetype": "text/x-python",
   "name": "python",
   "nbconvert_exporter": "python",
   "pygments_lexer": "ipython3",
   "version": "3.8.5"
  }
 },
 "nbformat": 4,
 "nbformat_minor": 4
}
